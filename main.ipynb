{
 "cells": [
  {
   "cell_type": "code",
   "execution_count": 143,
   "metadata": {},
   "outputs": [],
   "source": [
    "import copy\n",
    "from scipy import constants\n",
    "import numpy as np\n",
    "import matplotlib.pyplot as plt\n",
    "\n",
    "%matplotlib widget\n",
    "plt.rcParams['figure.figsize'] = [10, 7]"
   ]
  },
  {
   "cell_type": "code",
   "execution_count": 144,
   "metadata": {},
   "outputs": [],
   "source": [
    "def get_pos(arr, i, j):\n",
    "  if j < 0:\n",
    "    # return item that is in j = 1 to mirror the 1 column in the -1 position\n",
    "    return arr[i][1] or 0\n",
    "  elif i < 0 or i >= len(arr) or j >= len(arr[0]):\n",
    "    return 0\n",
    "  \n",
    "  return arr[i][j] or 0\n",
    "\n",
    "def init_potential(Nx, Ny, Nh, Nl, V0):\n",
    "  fixed_potential = []\n",
    "\n",
    "  for i in range(Nx + 1):\n",
    "    fixed_potential.append([None] * (Ny + 1))\n",
    "    fixed_potential[i][-1] = 0\n",
    "\n",
    "  fixed_potential[Nh][0:(Nl+1):1] = [V0/2] * (Nl + 1)\n",
    "  fixed_potential[0] = [0] * (Ny + 1)\n",
    "  fixed_potential[-1] = [0] * (Ny + 1)\n",
    "\n",
    "  return fixed_potential"
   ]
  },
  {
   "cell_type": "markdown",
   "metadata": {},
   "source": [
    "No próximo bloco de código é feita a inicialização dos dados e das matrizes:\n",
    "\n",
    "`fixed_potential`: matriz auxiliar que representa o estado inicial do potencial, e nunca é alterada após a inicialização\n",
    "\n",
    "`potential`: a matriz do potencial que será atualizada após cada iteração"
   ]
  },
  {
   "cell_type": "code",
   "execution_count": 145,
   "metadata": {},
   "outputs": [
    {
     "name": "stdout",
     "output_type": "stream",
     "text": [
      "75\n"
     ]
    }
   ],
   "source": [
    "Dx = 3\n",
    "Dy = 3\n",
    "h = 0.1\n",
    "w = 1.9\n",
    "d = 2\n",
    "lx = 2\n",
    "V0 = 1\n",
    "c = 0.0001\n",
    "\n",
    "Nx = int(Dx//h)\n",
    "Ny = int(Dy//h)\n",
    "Nh = int(d//(2*h))\n",
    "Nl = int(lx//(2*h))\n",
    "\n",
    "fixed_potential = init_potential(Nx, Ny, Nh, Nl, V0)\n",
    "\n",
    "potential = copy.deepcopy(fixed_potential)\n",
    "\n",
    "delta = []\n",
    "for i in range(Nx + 1):\n",
    "  delta.append([None] * (Ny + 1))\n",
    "\n",
    "converged = False\n",
    "\n",
    "count = 0\n",
    "\n",
    "while (not converged):\n",
    "  count += 1\n",
    "  converged = True\n",
    "\n",
    "  for i, row in enumerate(potential):\n",
    "    for j, el in enumerate(row):\n",
    "      if fixed_potential[i][j] == None:\n",
    "        up = get_pos(potential, i - 1, j)\n",
    "        down = get_pos(potential, i + 1, j)\n",
    "        left = get_pos(potential, i, j - 1)\n",
    "        right = get_pos(potential, i, j + 1)\n",
    "\n",
    "        new_value = (1 - w)*get_pos(potential, i, j) + w*(up + down + left + right)/4\n",
    "\n",
    "        diff = abs(new_value - get_pos(potential, i, j))\n",
    "        potential[i][j] = new_value\n",
    "        \n",
    "        if diff > c:\n",
    "          converged = False\n",
    "\n",
    "print(count)"
   ]
  },
  {
   "cell_type": "markdown",
   "metadata": {},
   "source": [
    "No próximo bloco o campo elétrico é calculado pela função `gradient` do numpy e são exibidos os gráficos do potencial e do campo elétrico"
   ]
  },
  {
   "cell_type": "code",
   "execution_count": 146,
   "metadata": {},
   "outputs": [
    {
     "data": {
      "application/vnd.jupyter.widget-view+json": {
       "model_id": "e7575e59e750425f88582fd0f05226b0",
       "version_major": 2,
       "version_minor": 0
      },
      "text/plain": [
       "Canvas(toolbar=Toolbar(toolitems=[('Home', 'Reset original view', 'home', 'home'), ('Back', 'Back to previous …"
      ]
     },
     "metadata": {},
     "output_type": "display_data"
    },
    {
     "data": {
      "application/vnd.jupyter.widget-view+json": {
       "model_id": "1c4a79ea446b46d186fe3f71890e7065",
       "version_major": 2,
       "version_minor": 0
      },
      "text/plain": [
       "Canvas(toolbar=Toolbar(toolitems=[('Home', 'Reset original view', 'home', 'home'), ('Back', 'Back to previous …"
      ]
     },
     "metadata": {},
     "output_type": "display_data"
    }
   ],
   "source": [
    "fig, ax = plt.subplots()\n",
    "im = ax.imshow(potential)\n",
    "\n",
    "# Show all ticks\n",
    "ax.set_xticks(np.arange(Nx, step=Nx/Dx))\n",
    "ax.set_xticklabels(np.arange(Dx))\n",
    "ax.set_yticks(np.arange(Ny, step=Ny/Dy))\n",
    "ax.set_yticklabels(np.arange(Dy))\n",
    "\n",
    "ax.invert_yaxis()\n",
    "\n",
    "fig.tight_layout()\n",
    "plt.colorbar(im)\n",
    "plt.show()\n",
    "\n",
    "grad = np.gradient(potential)\n",
    "\n",
    "field_y = -1*grad[0]\n",
    "field_x = -1*grad[1]\n",
    "\n",
    "u = field_x\n",
    "v = field_y\n",
    "M=np.hypot(u,v)\n",
    "\n",
    "fig, ax = plt.subplots()\n",
    "ax.set_xticks(np.arange(Nx, step=Nx/Dx))\n",
    "ax.set_xticklabels(np.arange(Dx))\n",
    "ax.set_yticks(np.arange(Ny, step=Ny/Dy))\n",
    "ax.set_yticklabels(np.arange(Dy))\n",
    "q = ax.quiver(u, v, M)\n",
    "plt.show()"
   ]
  },
  {
   "cell_type": "markdown",
   "metadata": {},
   "source": [
    "O próximo bloco de código realiza a integral do campo pela superfície gaussiana, que no caso se torna uma integral de linha\n",
    "\n",
    "O caminho escolhido foi o caminho o mais próximo possível da placa\n",
    "As componentes y de cada vetor foram somadas e multiplicadas por 2, assim como as componentes x dos vetores laterais\n",
    "\n",
    "Por fim, a carga foi encontrada multiplicando-se a soma pela permissividade elétrica no vácuo"
   ]
  },
  {
   "cell_type": "code",
   "execution_count": 147,
   "metadata": {},
   "outputs": [],
   "source": [
    "sum = 0\n",
    "\n",
    "for df in field_y[Nh + 1][1:Nl+1]:\n",
    "  sum += df\n",
    "\n",
    "for df in field_y[Nh - 1][1:Nl+1]:\n",
    "  sum += -1*df\n",
    "\n",
    "sum += field_x[Nh][Nl+2]\n",
    "\n",
    "sum *= 2\n",
    "\n",
    "sum += field_y[Nh + 1][0]\n",
    "sum += -1*field_y[Nh - 1][0]\n",
    "\n",
    "charge = sum*h*constants.epsilon_0"
   ]
  },
  {
   "cell_type": "code",
   "execution_count": 148,
   "metadata": {},
   "outputs": [
    {
     "name": "stdout",
     "output_type": "stream",
     "text": [
      "Capacitance: 1.9279492323880134e-12\n"
     ]
    }
   ],
   "source": [
    "capacitance = charge/V0\n",
    "\n",
    "print(f'Capacitance: {capacitance}')"
   ]
  }
 ],
 "metadata": {
  "kernelspec": {
   "display_name": "Python 3.8.5 ('base')",
   "language": "python",
   "name": "python3"
  },
  "language_info": {
   "codemirror_mode": {
    "name": "ipython",
    "version": 3
   },
   "file_extension": ".py",
   "mimetype": "text/x-python",
   "name": "python",
   "nbconvert_exporter": "python",
   "pygments_lexer": "ipython3",
   "version": "3.8.5"
  },
  "orig_nbformat": 4,
  "vscode": {
   "interpreter": {
    "hash": "c1814ca52bba52bfdf31dd1e8c709b7a58582c9b8af2576a8efd0efcedbbaa60"
   }
  }
 },
 "nbformat": 4,
 "nbformat_minor": 2
}
